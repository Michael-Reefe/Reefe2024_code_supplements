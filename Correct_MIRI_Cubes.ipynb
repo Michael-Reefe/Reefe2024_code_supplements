{
 "cells": [
  {
   "cell_type": "code",
   "execution_count": 1,
   "id": "85dbe2ef",
   "metadata": {},
   "outputs": [],
   "source": [
    "import numpy as np\n",
    "import matplotlib.pyplot as plt\n",
    "\n",
    "from astropy.io import fits\n",
    "from specutils import Spectrum1D\n",
    "from scipy.interpolate import interp1d\n",
    "\n",
    "from glob import glob"
   ]
  },
  {
   "cell_type": "markdown",
   "id": "fef126e2",
   "metadata": {},
   "source": [
    "# Importing Data\n",
    "The variable cubes should be a list of paths for filenames for the end products of the jwst pipeline. Either by band or b channel"
   ]
  },
  {
   "cell_type": "code",
   "execution_count": 5,
   "id": "edf66beb",
   "metadata": {},
   "outputs": [
    {
     "name": "stdout",
     "output_type": "stream",
     "text": [
      "['Phoenix_cal/stage3mod/Level3_ch1-long_s3d.fits', 'Phoenix_cal/stage3mod/Level3_ch1-medium_s3d.fits', 'Phoenix_cal/stage3mod/Level3_ch1-short_s3d.fits', 'Phoenix_cal/stage3mod/Level3_ch2-long_s3d.fits', 'Phoenix_cal/stage3mod/Level3_ch2-medium_s3d.fits', 'Phoenix_cal/stage3mod/Level3_ch2-short_s3d.fits', 'Phoenix_cal/stage3mod/Level3_ch3-long_s3d.fits', 'Phoenix_cal/stage3mod/Level3_ch3-medium_s3d.fits', 'Phoenix_cal/stage3mod/Level3_ch3-short_s3d.fits', 'Phoenix_cal/stage3mod/Level3_ch4-long_s3d.fits', 'Phoenix_cal/stage3mod/Level3_ch4-medium_s3d.fits', 'Phoenix_cal/stage3mod/Level3_ch4-short_s3d.fits']\n",
      "['Phoenix_cal/poststage3/Level3_ch1-long_s3d_weightedbackground.fits', 'Phoenix_cal/poststage3/Level3_ch1-medium_s3d_weightedbackground.fits', 'Phoenix_cal/poststage3/Level3_ch1-short_s3d_weightedbackground.fits', 'Phoenix_cal/poststage3/Level3_ch2-long_s3d_weightedbackground.fits', 'Phoenix_cal/poststage3/Level3_ch2-medium_s3d_weightedbackground.fits', 'Phoenix_cal/poststage3/Level3_ch2-short_s3d_weightedbackground.fits', 'Phoenix_cal/poststage3/Level3_ch3-long_s3d_weightedbackground.fits', 'Phoenix_cal/poststage3/Level3_ch3-medium_s3d_weightedbackground.fits', 'Phoenix_cal/poststage3/Level3_ch3-short_s3d_weightedbackground.fits', 'Phoenix_cal/poststage3/Level3_ch4-long_s3d_weightedbackground.fits', 'Phoenix_cal/poststage3/Level3_ch4-medium_s3d_weightedbackground.fits', 'Phoenix_cal/poststage3/Level3_ch4-short_s3d_weightedbackground.fits']\n"
     ]
    }
   ],
   "source": [
    "cubes = sorted(glob('Phoenix_cal/stage3mod/*_s3d.fits'))\n",
    "corrx, corry = np.genfromtxt('miri_sensitivity_correction.txt')\n",
    "print(cubes)"
   ]
  },
  {
   "cell_type": "markdown",
   "id": "7efd8261",
   "metadata": {},
   "source": [
    "# Correcting\n",
    "This notebook should increase the general time and wavelength dependent correction factor implemented by the jwst pipeline due a sensitivity drop. While not perfect we have modeled this correction factor as a smooth polynomial (based on the jwst correction) that is scaled with a power law to account for the time dependence. The wavelength dependent drop is fairly constant source to source so the only parameter that needs changing is time dependent factor.\n",
    "\n",
    "We determined the correction factor for Phoenix by bringing the jwst data within the error bars of WISE data from the same source. With the limited data set correction factors should be determined source to source. "
   ]
  },
  {
   "cell_type": "code",
   "execution_count": 6,
   "id": "be63c663",
   "metadata": {},
   "outputs": [],
   "source": [
    "##### Change based on observation date #########\n",
    "corr_factor = 0.75 ## 27-07-2023 (Phoenix)\n",
    "\n",
    "for i, name in enumerate(cubes):\n",
    "    hdul = fits.open(name)\n",
    "    hdr = hdul[1].header\n",
    "    wav = (np.arange(hdr['NAXIS3']) + hdr['CRPIX3'] - 1) * hdr['CDELT3'] + hdr['CRVAL3']\n",
    "    corr_interp = interp1d(corrx, corry)(wav)\n",
    "    \n",
    "    # uncommenting the lines below to show the old and corrected spectra for an individual spaxel\n",
    "    for j in range(hdul[1].data.shape[1]):\n",
    "        for k in range(hdul[1].data.shape[2]):\n",
    "            hdul[2].data[:, j, k] = hdul[2].data[:, j, k]*corr_interp**corr_factor\n",
    "\n",
    "    hdul.writeto(name[:-5] + '_corr_nostripe.fits', overwrite=True)"
   ]
  },
  {
   "cell_type": "code",
   "execution_count": null,
   "id": "c8115ba6",
   "metadata": {},
   "outputs": [],
   "source": []
  }
 ],
 "metadata": {
  "kernelspec": {
   "display_name": "Python 3 (ipykernel)",
   "language": "python",
   "name": "python3"
  },
  "language_info": {
   "codemirror_mode": {
    "name": "ipython",
    "version": 3
   },
   "file_extension": ".py",
   "mimetype": "text/x-python",
   "name": "python",
   "nbconvert_exporter": "python",
   "pygments_lexer": "ipython3",
   "version": "3.9.18"
  }
 },
 "nbformat": 4,
 "nbformat_minor": 5
}
